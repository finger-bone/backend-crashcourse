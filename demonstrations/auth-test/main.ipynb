{
 "cells": [
  {
   "cell_type": "code",
   "execution_count": 30,
   "metadata": {},
   "outputs": [],
   "source": [
    "client_id = \"demo\"\n",
    "secret = \"{noop}secret\"\n",
    "authorization_endpoint = 'http://localhost:8080/realms/demo/protocol/openid-connect/auth'"
   ]
  },
  {
   "cell_type": "code",
   "execution_count": 31,
   "metadata": {},
   "outputs": [],
   "source": [
    "from authlib.integrations.httpx_client import AsyncOAuth2Client"
   ]
  },
  {
   "cell_type": "code",
   "execution_count": 32,
   "metadata": {},
   "outputs": [],
   "source": [
    "# use header mode\n",
    "client = AsyncOAuth2Client(\n",
    "    client_id=client_id, client_secret=secret\n",
    ")"
   ]
  },
  {
   "cell_type": "code",
   "execution_count": 34,
   "metadata": {},
   "outputs": [
    {
     "data": {
      "text/plain": [
       "('http://localhost:8080/realms/demo/protocol/openid-connect/auth?response_type=code&client_id=demo&redirect_uri=http%3A%2F%2Flocalhost%3A8888%2Fcallback&state=iTO3U5ziTkKpirriCU2clNn3iBL4iB',\n",
       " 'iTO3U5ziTkKpirriCU2clNn3iBL4iB')"
      ]
     },
     "execution_count": 34,
     "metadata": {},
     "output_type": "execute_result"
    }
   ],
   "source": [
    "client.create_authorization_url(authorization_endpoint, redirect_uri='http://localhost:8888/callback')"
   ]
  },
  {
   "cell_type": "code",
   "execution_count": 35,
   "metadata": {},
   "outputs": [],
   "source": [
    "code = \"700b3588-77f5-40b8-94a2-be36b28686d2.e79ab843-faf8-46a0-ad1c-d29e04df5c47.0188c8ff-fff2-462b-a621-b3e81247f310\""
   ]
  },
  {
   "cell_type": "code",
   "execution_count": 36,
   "metadata": {},
   "outputs": [
    {
     "ename": "OAuthError",
     "evalue": "Invalid Request: ",
     "output_type": "error",
     "traceback": [
      "\u001b[0;31m---------------------------------------------------------------------------\u001b[0m",
      "\u001b[0;31mOAuthError\u001b[0m                                Traceback (most recent call last)",
      "Cell \u001b[0;32mIn[36], line 1\u001b[0m\n\u001b[0;32m----> 1\u001b[0m token \u001b[38;5;241m=\u001b[39m \u001b[38;5;28;01mawait\u001b[39;00m client\u001b[38;5;241m.\u001b[39mfetch_token(authorization_endpoint, code\u001b[38;5;241m=\u001b[39mcode, redirect_uri\u001b[38;5;241m=\u001b[39m\u001b[38;5;124m'\u001b[39m\u001b[38;5;124mhttp://localhost:8888/callback\u001b[39m\u001b[38;5;124m'\u001b[39m)\n",
      "File \u001b[0;32m~/Desktop/demo/auth-test/.pixi/envs/default/lib/python3.12/site-packages/authlib/integrations/httpx_client/oauth2_client.py:138\u001b[0m, in \u001b[0;36mAsyncOAuth2Client._fetch_token\u001b[0;34m(self, url, body, headers, auth, method, **kwargs)\u001b[0m\n\u001b[1;32m    135\u001b[0m \u001b[38;5;28;01mfor\u001b[39;00m hook \u001b[38;5;129;01min\u001b[39;00m \u001b[38;5;28mself\u001b[39m\u001b[38;5;241m.\u001b[39mcompliance_hook[\u001b[38;5;124m'\u001b[39m\u001b[38;5;124maccess_token_response\u001b[39m\u001b[38;5;124m'\u001b[39m]:\n\u001b[1;32m    136\u001b[0m     resp \u001b[38;5;241m=\u001b[39m hook(resp)\n\u001b[0;32m--> 138\u001b[0m \u001b[38;5;28;01mreturn\u001b[39;00m \u001b[38;5;28;43mself\u001b[39;49m\u001b[38;5;241;43m.\u001b[39;49m\u001b[43mparse_response_token\u001b[49m\u001b[43m(\u001b[49m\u001b[43mresp\u001b[49m\u001b[43m)\u001b[49m\n",
      "File \u001b[0;32m~/Desktop/demo/auth-test/.pixi/envs/default/lib/python3.12/site-packages/authlib/oauth2/client.py:344\u001b[0m, in \u001b[0;36mOAuth2Client.parse_response_token\u001b[0;34m(self, resp)\u001b[0m\n\u001b[1;32m    342\u001b[0m token \u001b[38;5;241m=\u001b[39m resp\u001b[38;5;241m.\u001b[39mjson()\n\u001b[1;32m    343\u001b[0m \u001b[38;5;28;01mif\u001b[39;00m \u001b[38;5;124m'\u001b[39m\u001b[38;5;124merror\u001b[39m\u001b[38;5;124m'\u001b[39m \u001b[38;5;129;01min\u001b[39;00m token:\n\u001b[0;32m--> 344\u001b[0m     \u001b[38;5;28;01mraise\u001b[39;00m \u001b[38;5;28mself\u001b[39m\u001b[38;5;241m.\u001b[39moauth_error_class(\n\u001b[1;32m    345\u001b[0m         error\u001b[38;5;241m=\u001b[39mtoken[\u001b[38;5;124m'\u001b[39m\u001b[38;5;124merror\u001b[39m\u001b[38;5;124m'\u001b[39m],\n\u001b[1;32m    346\u001b[0m         description\u001b[38;5;241m=\u001b[39mtoken\u001b[38;5;241m.\u001b[39mget(\u001b[38;5;124m'\u001b[39m\u001b[38;5;124merror_description\u001b[39m\u001b[38;5;124m'\u001b[39m)\n\u001b[1;32m    347\u001b[0m     )\n\u001b[1;32m    348\u001b[0m \u001b[38;5;28mself\u001b[39m\u001b[38;5;241m.\u001b[39mtoken \u001b[38;5;241m=\u001b[39m token\n\u001b[1;32m    349\u001b[0m \u001b[38;5;28;01mreturn\u001b[39;00m \u001b[38;5;28mself\u001b[39m\u001b[38;5;241m.\u001b[39mtoken\n",
      "\u001b[0;31mOAuthError\u001b[0m: Invalid Request: "
     ]
    }
   ],
   "source": [
    "token = await client.fetch_token(authorization_endpoint, code=code, redirect_uri='http://localhost:8888/callback')"
   ]
  },
  {
   "cell_type": "code",
   "execution_count": 1,
   "metadata": {},
   "outputs": [
    {
     "data": {
      "text/plain": [
       "({'alg': 'RS256',\n",
       "  'typ': 'JWT',\n",
       "  'kid': 'eDIOZ1N9n1LIDvALccUVHGqCzdhTzhRbEgTKDrb46XE'},\n",
       " {'exp': 1723995834,\n",
       "  'iat': 1723995534,\n",
       "  'auth_time': 1723995534,\n",
       "  'jti': 'c44b97dc-31f5-4931-9feb-51acdc0cbe12',\n",
       "  'iss': 'http://localhost:8080/realms/demo',\n",
       "  'aud': 'account',\n",
       "  'sub': '11f847e3-4800-4a2f-833c-1b99dd0f896a',\n",
       "  'typ': 'Bearer',\n",
       "  'azp': 'demo',\n",
       "  'sid': 'efb82566-e864-449b-b57b-838ed4aa0159',\n",
       "  'acr': '1',\n",
       "  'allowed-origins': ['/*'],\n",
       "  'realm_access': {'roles': ['offline_access',\n",
       "    'default-roles-demo',\n",
       "    'uma_authorization']},\n",
       "  'resource_access': {'account': {'roles': ['manage-account',\n",
       "     'manage-account-links',\n",
       "     'view-profile']}},\n",
       "  'scope': 'roles granted_authorities profile email',\n",
       "  'email_verified': False,\n",
       "  'granted_authorities': ['admin'],\n",
       "  'name': 'admin X',\n",
       "  'preferred_username': 'admin',\n",
       "  'given_name': 'admin',\n",
       "  'family_name': 'X',\n",
       "  'email': 'test@admin.com'})"
      ]
     },
     "execution_count": 1,
     "metadata": {},
     "output_type": "execute_result"
    }
   ],
   "source": [
    "import base64\n",
    "import json\n",
    "\n",
    "# JWT token components\n",
    "jwt_token = \"eyJhbGciOiJSUzI1NiIsInR5cCIgOiAiSldUIiwia2lkIiA6ICJlRElPWjFOOW4xTElEdkFMY2NVVkhHcUN6ZGhUemhSYkVnVEtEcmI0NlhFIn0.eyJleHAiOjE3MjM5OTU4MzQsImlhdCI6MTcyMzk5NTUzNCwiYXV0aF90aW1lIjoxNzIzOTk1NTM0LCJqdGkiOiJjNDRiOTdkYy0zMWY1LTQ5MzEtOWZlYi01MWFjZGMwY2JlMTIiLCJpc3MiOiJodHRwOi8vbG9jYWxob3N0OjgwODAvcmVhbG1zL2RlbW8iLCJhdWQiOiJhY2NvdW50Iiwic3ViIjoiMTFmODQ3ZTMtNDgwMC00YTJmLTgzM2MtMWI5OWRkMGY4OTZhIiwidHlwIjoiQmVhcmVyIiwiYXpwIjoiZGVtbyIsInNpZCI6ImVmYjgyNTY2LWU4NjQtNDQ5Yi1iNTdiLTgzOGVkNGFhMDE1OSIsImFjciI6IjEiLCJhbGxvd2VkLW9yaWdpbnMiOlsiLyoiXSwicmVhbG1fYWNjZXNzIjp7InJvbGVzIjpbIm9mZmxpbmVfYWNjZXNzIiwiZGVmYXVsdC1yb2xlcy1kZW1vIiwidW1hX2F1dGhvcml6YXRpb24iXX0sInJlc291cmNlX2FjY2VzcyI6eyJhY2NvdW50Ijp7InJvbGVzIjpbIm1hbmFnZS1hY2NvdW50IiwibWFuYWdlLWFjY291bnQtbGlua3MiLCJ2aWV3LXByb2ZpbGUiXX19LCJzY29wZSI6InJvbGVzIGdyYW50ZWRfYXV0aG9yaXRpZXMgcHJvZmlsZSBlbWFpbCIsImVtYWlsX3ZlcmlmaWVkIjpmYWxzZSwiZ3JhbnRlZF9hdXRob3JpdGllcyI6WyJhZG1pbiJdLCJuYW1lIjoiYWRtaW4gWCIsInByZWZlcnJlZF91c2VybmFtZSI6ImFkbWluIiwiZ2l2ZW5fbmFtZSI6ImFkbWluIiwiZmFtaWx5X25hbWUiOiJYIiwiZW1haWwiOiJ0ZXN0QGFkbWluLmNvbSJ9.L07yxyF7F7VyEVkJhSv5_K-hGpeDn2xyhKnzpuqeb4TezQcDUGj2B5msggnaEE6JxT4-jkpfxLRBOPDzEJA6fwxEP4SGUNjpMiXOr6V53ZNAWvDLMu9ah46npBDlye7aNc5tfWS53XrNkzDWZrdcmRZndFvGfGYGmXlv_-fJW5R2hqKy5aa2IlU34N7wLN2c9b8LF3MDhPJIJILtkBL9D-lPEcCt7g-Ccics05Tjyro6v8u8tr-i2sK_horVdbuZQbyfndC5vI5WxWnc17skVF7o9XAc_vEJZMthqo-U772KhzSzLNJtLNA2OVaGPqkl5UXBjrgau99TiS7M69ktZg\"\n",
    "\n",
    "# Split the JWT into header, payload, and signature\n",
    "header_b64, payload_b64, signature_b64 = jwt_token.split('.')\n",
    "\n",
    "# Base64 URL decode (adding padding if necessary) and parse the JSON objects\n",
    "header = json.loads(base64.urlsafe_b64decode(header_b64 + '==').decode('utf-8'))\n",
    "payload = json.loads(base64.urlsafe_b64decode(payload_b64 + '==').decode('utf-8'))\n",
    "\n",
    "header, payload"
   ]
  },
  {
   "cell_type": "code",
   "execution_count": null,
   "metadata": {},
   "outputs": [],
   "source": []
  }
 ],
 "metadata": {
  "kernelspec": {
   "display_name": "default",
   "language": "python",
   "name": "python3"
  },
  "language_info": {
   "codemirror_mode": {
    "name": "ipython",
    "version": 3
   },
   "file_extension": ".py",
   "mimetype": "text/x-python",
   "name": "python",
   "nbconvert_exporter": "python",
   "pygments_lexer": "ipython3",
   "version": "3.12.5"
  }
 },
 "nbformat": 4,
 "nbformat_minor": 2
}
